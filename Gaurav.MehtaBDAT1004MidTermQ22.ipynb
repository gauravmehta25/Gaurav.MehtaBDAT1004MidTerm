{
 "cells": [
  {
   "cell_type": "markdown",
   "id": "b3fd1c39",
   "metadata": {},
   "source": [
    "## Question 22\n",
    "\n",
    "\n",
    "+---------------+---------+\n",
    "| Column Name   | Type    |\n",
    "+---------------+---------+\n",
    "| id            | int     |\n",
    "| recordDate    | date    |\n",
    "| temperature   | int     |\n",
    "+---------------+---------+\n",
    "id is the column with unique values for this table.\n",
    "This table contains information about the temperature on a certain day.\n",
    " \n",
    " \n",
    "Write a solution to find all dates' Id with higher temperatures compared to its previous dates (yesterday).\n",
    "\n",
    "Return the result table in any order.\n",
    "\n",
    "Please use the following input Weather table for your solution. To receive full marks you will need to create the database, create the table, insert the data below and execute the SQL query.\n",
    "\n",
    "\n",
    "Input: \n",
    "Weather table:\n",
    "+----+------------+-------------+\n",
    "| id | recordDate | temperature |\n",
    "+----+------------+-------------+\n",
    "| 1  | 2015-01-01 | 10          |\n",
    "| 2  | 2015-01-02 | 25          |\n",
    "| 3  | 2015-01-03 | 20          |\n",
    "| 4  | 2015-01-04 | 30          |\n",
    "+----+------------+-------------+\n",
    "Output: \n",
    "+----+\n",
    "| id |\n",
    "+----+\n",
    "| 2  |\n",
    "| 4  |\n",
    "+----+\n",
    "Explanation: \n",
    "In 2015-01-02, the temperature was higher than the previous day (10 -> 25).\n",
    "In 2015-01-04, the temperature was higher than the previous day (20 -> 30)."
   ]
  },
  {
   "cell_type": "code",
   "execution_count": 22,
   "id": "86528166",
   "metadata": {},
   "outputs": [
    {
     "name": "stdout",
     "output_type": "stream",
     "text": [
      "the temperature was higher than the previous date:\n",
      "(2, 25)\n",
      "(4, 30)\n"
     ]
    }
   ],
   "source": [
    "import sqlite3\n",
    "\n",
    "conn = sqlite3.connect('Temperature.db')\n",
    "cursor = conn.cursor()\n",
    "\n",
    "create_table_query = '''create table Weather (id INTEGER primary key, recordDate DATE, temperature INTEGER);'''\n",
    "\n",
    "##cursor.execute(create_table_query)\n",
    "\n",
    "insert_data_query = '''Insert into Weather (recordDate, temperature) VALUES\n",
    "    ( '2015-01-01', 10),\n",
    "    ( '2015-01-02', 25),\n",
    "    ( '2015-01-03', 20),\n",
    "    ( '2015-01-04', 30);'''\n",
    "\n",
    "cursor.execute(insert_data_query)\n",
    "conn.commit()\n",
    "\n",
    "query = '''\n",
    "WITH PreviousTemperatures AS (SELECT id, recordDate, temperature, LAG(temperature) OVER (ORDER BY recordDate) \n",
    "AS previousTemperature FROM Weather)\n",
    "\n",
    "SELECT id,temperature FROM PreviousTemperatures WHERE temperature > previousTemperature;'''\n",
    "\n",
    "cursor.execute(query)\n",
    "result = cursor.fetchall()\n",
    "\n",
    "\n",
    "print(\"the temperature was higher than the previous date:\")\n",
    "for row in result:\n",
    "    print(row)\n",
    "\n",
    "conn.close()"
   ]
  }
 ],
 "metadata": {
  "kernelspec": {
   "display_name": "Python 3 (ipykernel)",
   "language": "python",
   "name": "python3"
  },
  "language_info": {
   "codemirror_mode": {
    "name": "ipython",
    "version": 3
   },
   "file_extension": ".py",
   "mimetype": "text/x-python",
   "name": "python",
   "nbconvert_exporter": "python",
   "pygments_lexer": "ipython3",
   "version": "3.11.4"
  }
 },
 "nbformat": 4,
 "nbformat_minor": 5
}
