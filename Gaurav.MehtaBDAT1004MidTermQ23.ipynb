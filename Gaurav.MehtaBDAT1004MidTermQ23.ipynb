{
 "cells": [
  {
   "cell_type": "markdown",
   "id": "5fc516c6",
   "metadata": {},
   "source": [
    "## Question 23\n",
    "\n",
    "Develop a recursive function tough() that takes two nonnegative integer arguments. Hint: The first argument represents the indentation of the pattern, where the second argument -- always a pattern of 2 indicates the number *s in the longest line of *s in the pattern"
   ]
  },
  {
   "cell_type": "code",
   "execution_count": 26,
   "id": "4b1a7362",
   "metadata": {},
   "outputs": [
    {
     "name": "stdout",
     "output_type": "stream",
     "text": [
      "\n",
      "*\n",
      "\n",
      "**\n",
      " *\n",
      "\n",
      "****\n",
      " ***\n",
      "  **\n",
      "   *\n",
      "\n"
     ]
    }
   ],
   "source": [
    "def tough(indent,length):\n",
    "    if length== 0:\n",
    "        return\n",
    "    if indent > 0:\n",
    "        print(\" \" * indent, end='')\n",
    "    print(\"*\" *length)\n",
    "    tough(indent+1,length-1)\n",
    "\n",
    "tough(0,0)\n",
    "print()\n",
    "tough(0,1)\n",
    "print()\n",
    "tough(0,2)\n",
    "print()\n",
    "tough(0,4)\n",
    "print()\n"
   ]
  }
 ],
 "metadata": {
  "kernelspec": {
   "display_name": "Python 3 (ipykernel)",
   "language": "python",
   "name": "python3"
  },
  "language_info": {
   "codemirror_mode": {
    "name": "ipython",
    "version": 3
   },
   "file_extension": ".py",
   "mimetype": "text/x-python",
   "name": "python",
   "nbconvert_exporter": "python",
   "pygments_lexer": "ipython3",
   "version": "3.11.4"
  }
 },
 "nbformat": 4,
 "nbformat_minor": 5
}
